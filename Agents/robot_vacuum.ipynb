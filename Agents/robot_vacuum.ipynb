{
 "cells": [
  {
   "cell_type": "markdown",
   "metadata": {},
   "source": [
    "# Intelligent Agents: Reflex-Based Agents for the Vacuum-cleaner World\n",
    "\n",
    "\n",
    "## Instructions\n",
    "\n",
    "Total Points: Undergrads 100 / Graduate students 110\n",
    "\n",
    "Complete this notebook. Use the provided notebook cells and insert additional code and markdown cells as needed. Submit the completely rendered notebook as a PDF file. \n",
    "\n",
    "## Introduction\n",
    "\n",
    "In this assignment you will implement a simulator environment for an automatic vacuum cleaner robot, a set of different reflex-based agent programs, and perform a comparison study for cleaning a single room. Focus on the __cleaning phase__ which starts when the robot is activated and ends when the last dirty square in the room has been cleaned. Someone else will take care of the agent program needed to navigate back to the charging station after the room is clean.\n",
    "\n",
    "## PEAS description of the cleaning phase\n",
    "\n",
    "__Performance Measure:__ Each action costs 1 energy unit. The performance is measured as the sum of the energy units used to clean the whole room.\n",
    "\n",
    "__Environment:__ A room with $n \\times n$ squares where $n = 5$. Dirt is randomly placed on each square with probability $p = 0.2$. For simplicity, you can assume that the agent knows the size and the layout of the room (i.e., it knows $n$). To start, the agent is placed on a random square.\n",
    "\n",
    "__Actuators:__ The agent can clean the current square (action `suck`) or move to an adjacent square by going `north`, `east`, `south`, or `west`.\n",
    "\n",
    "__Sensors:__ Four bumper sensors, one for north, east, south, and west; a dirt sensor reporting dirt in the current square.  \n",
    "\n",
    "\n",
    "## The agent program for a simple randomized agent\n",
    "\n",
    "The agent program is a function that gets sensor information (the current percepts) as the arguments. The arguments are:\n",
    "\n",
    "* A dictionary with boolean entries for the for bumper sensors `north`, `east`, `west`, `south`. E.g., if the agent is on the north-west corner, `bumpers` will be `{\"north\" : True, \"east\" : False, \"south\" : False, \"west\" : True}`.\n",
    "* The dirt sensor produces a boolean.\n",
    "\n",
    "The agent returns the chosen action as a string.\n",
    "\n",
    "Here is an example implementation for the agent program of a simple randomized agent:  "
   ]
  },
  {
   "cell_type": "code",
   "execution_count": 1,
   "metadata": {},
   "outputs": [],
   "source": [
    "import numpy as np\n",
    "import random\n",
    "\n",
    "actions = [\"north\", \"east\", \"west\", \"south\", \"suck\"]\n",
    "\n",
    "def simple_randomized_agent(bumpers, dirty):\n",
    "    return np.random.choice(actions)"
   ]
  },
  {
   "cell_type": "code",
   "execution_count": 2,
   "metadata": {},
   "outputs": [
    {
     "data": {
      "text/plain": [
       "'south'"
      ]
     },
     "execution_count": 2,
     "metadata": {},
     "output_type": "execute_result"
    }
   ],
   "source": [
    "# define percepts (current location is NW corner and it is dirty)\n",
    "bumpers = {\"north\" : True, \"east\" : False, \"south\" : False, \"west\" : True}\n",
    "dirty = True\n",
    "\n",
    "# call agent program function with percepts and it returns an action\n",
    "simple_randomized_agent(bumpers, dirty)"
   ]
  },
  {
   "cell_type": "markdown",
   "metadata": {},
   "source": [
    "__Note:__ This is not a rational intelligent agent. It ignores its sensors and may bump into a wall repeatedly or not clean a dirty square. You will be asked to implement rational agents below."
   ]
  },
  {
   "cell_type": "markdown",
   "metadata": {},
   "source": [
    "## Simple environment example\n",
    "\n",
    "We implement a simple simulation environment that supplies the agent with its percepts.\n",
    "The simple environment is infinite in size (bumpers are always `False`) and every square is always dirty, even if the agent cleans it. The environment function returns a performance measure which is here the number of cleaned squares (since the room is infinite and all squares are constantly dirty, the agent can never clean the whole room as required in the PEAS description above). The energy budget of the agent is specified as `max_steps`. "
   ]
  },
  {
   "cell_type": "code",
   "execution_count": 3,
   "metadata": {},
   "outputs": [],
   "source": [
    "def simple_environment1(agent, max_steps, verbose = True):\n",
    "    num_cleaned = 0\n",
    "    \n",
    "    for i in range(max_steps):\n",
    "        dirty = True\n",
    "        bumpers = {\"north\" : False, \"south\" : False, \"west\" : False, \"east\" : False}\n",
    "\n",
    "        action = agent(bumpers, dirty)\n",
    "        if (verbose): print(\"step\", i , \"- action:\", action) \n",
    "        \n",
    "        if (action == \"suck\"): \n",
    "            num_cleaned = num_cleaned + 1\n",
    "        \n",
    "    return num_cleaned\n",
    "        \n"
   ]
  },
  {
   "cell_type": "markdown",
   "metadata": {},
   "source": [
    "Do one simulation run with a simple randomized agent that has enough energy for 20 steps."
   ]
  },
  {
   "cell_type": "code",
   "execution_count": 4,
   "metadata": {},
   "outputs": [
    {
     "name": "stdout",
     "output_type": "stream",
     "text": [
      "step 0 - action: suck\n",
      "step 1 - action: south\n",
      "step 2 - action: north\n",
      "step 3 - action: north\n",
      "step 4 - action: north\n",
      "step 5 - action: suck\n",
      "step 6 - action: north\n",
      "step 7 - action: south\n",
      "step 8 - action: suck\n",
      "step 9 - action: suck\n",
      "step 10 - action: east\n",
      "step 11 - action: north\n",
      "step 12 - action: east\n",
      "step 13 - action: north\n",
      "step 14 - action: suck\n",
      "step 15 - action: east\n",
      "step 16 - action: north\n",
      "step 17 - action: south\n",
      "step 18 - action: east\n",
      "step 19 - action: south\n"
     ]
    },
    {
     "data": {
      "text/plain": [
       "5"
      ]
     },
     "execution_count": 4,
     "metadata": {},
     "output_type": "execute_result"
    }
   ],
   "source": [
    "simple_environment1(simple_randomized_agent, max_steps = 20)"
   ]
  },
  {
   "cell_type": "markdown",
   "metadata": {},
   "source": [
    "# Tasks\n",
    "\n",
    "## General [10 Points]\n",
    "\n",
    "1. Make sure that you use the latest version of this notebook. Sync your forked repository and pull the latest revision. \n",
    "2. Your implementation can use libraries like math, numpy, scipy, but not libraries that implement inteligent agents or complete search algorithms. Try to keep the code simple! In this course, we want to learn about the algorithms and we often do not need to use object-oriented design.\n",
    "3. You notebook needs to be formated professionally. \n",
    "    - Add additional markdown blocks for your description, comments in the code, add tables and use mathplotlib to produce charts where appropriate\n",
    "    - Do not show debugging output or include an excessive amount of output.\n",
    "    - Check that your PDF file is readable. For example, long lines are cut off in the PDF file. You don't have control over page breaks, so do not worry about these.\n",
    "4. Document your code. Add a short discussion of how your implementation works and your design choices.\n",
    "\n",
    "\n",
    "## Task 1: Implement a simulation environment [20 Points]\n",
    "\n",
    "The simple environment above is not very realistic. Your environment simulator needs to follow the PEAS description from above. It needs to:\n",
    "\n",
    "* Initialize the environment by storing the state of each square (clean/dirty) and making some dirty. ([Help with random numbers and arrays in Python](https://github.com/mhahsler/CS7320-AI/blob/master/Python_Code_Examples/random_numbers_and_arrays.ipynb))\n",
    "* Keep track of the agent's position.\n",
    "* Call the agent function repeatedly and provide the agent function with the sensor inputs.  \n",
    "* React to the agent's actions. E.g, by removing dirt from a square or moving the agent around unless there is a wall in the way.\n",
    "* Keep track of the performance measure. That is, track the agent's actions until all dirty squares are clean and count the number of actions it takes the agent to complete the task.\n",
    "\n",
    "The easiest implementation for the environment is to hold an 2-dimensional array to represent if squares are clean or dirty and to call the agent function in a loop until all squares are clean or a predefined number of steps have been reached (i.e., the robot runs out of energy).\n",
    "\n",
    "The simulation environment should be a function like the `simple_environment()` and needs to work with the simple randomized agent program from above. Use the same environmnt for all your agent implementations in the tasks below.\n",
    "\n",
    "*Note on debugging:* Debugging is difficult. Make sure your environment prints enough information when you use `verbose = True`. Also, implementing a function that the environment can use to displays the room with dirt and the current position of the robot at every step is very useful.  "
   ]
  },
  {
   "cell_type": "code",
   "execution_count": 5,
   "metadata": {},
   "outputs": [],
   "source": [
    "# max_tile defines how large the room is, ex: max_tile=5, then the room is 5x5\n",
    "def find_next_path(max_tile):\n",
    "    # providing feedback to the agent based on the action taken\n",
    "    # reset the state of agent for update (check future to see if necessary)\n",
    "    # update to true when against a wall\n",
    "    bumpers = {\"north\": False, \"south\": False, \"west\": False, \"east\": False}\n",
    "    if pos[1] <= 0: bumpers[\"north\"] = True\n",
    "    if pos[1] >= max_tile: bumpers[\"south\"] = True\n",
    "    if pos[0] <= 0: bumpers[\"west\"] = True\n",
    "    if pos[0] >= max_tile: bumpers[\"east\"] = True\n",
    "\n",
    "    return bumpers\n",
    "\n",
    "\n",
    "def simple_environment(agent, max_steps, verbose=True, room_size=0):\n",
    "    # global values used in simple environment\n",
    "    global pos, bumpers\n",
    "\n",
    "    max_tile = room_size - 1\n",
    "    # setup and print basic environment\n",
    "    startX = random.randint(0, max_tile)\n",
    "    startY = random.randint(0, max_tile)\n",
    "\n",
    "    pos = [startX, startY]\n",
    "    p = 0  # possibility of dirty block\n",
    "    room = np.random.choice([0, 1], (room_size, room_size), [p, 1-p])  # comment to switch to obstacle 0:dirty 1:norm \n",
    "\n",
    "    # uncomment below to switch to obstacle 0:dirty 1:obstacle 2:norm\n",
    "    # room = np.random.choice([0, 1, 2], (room_size, room_size), [p, p_obs, 1-p-p_obs])  \n",
    "    \n",
    "    num_cleaned = 0\n",
    "    # setup bumper before calling agent for the first time\n",
    "    bumpers = find_next_path(max_tile)\n",
    "    # print(\"curr bumpers value: \" ,bumpers)\n",
    "\n",
    "    # get the amount of dirty floors in room\n",
    "    count_dirty = 0\n",
    "    for x in room:\n",
    "        for y in x:\n",
    "            if y==0: count_dirty += 1\n",
    "    \n",
    "\n",
    "    # loop as many times as steps allowed\n",
    "    for i in range(max_steps):\n",
    "        if(count_dirty == num_cleaned):\n",
    "            break\n",
    "        # update tile status\n",
    "        \n",
    "        if room[pos[1]][pos[0]] == 0:\n",
    "            tile_dirty = True\n",
    "        else:\n",
    "            tile_dirty = False\n",
    "\n",
    "        # run agent\n",
    "        action = agent(bumpers, tile_dirty)\n",
    "        # print(action)\n",
    "        if (verbose): print(\"step\", i, \"- action:\", action)\n",
    "\n",
    "        # performing agent's action on the map\n",
    "        if action == \"suck\":\n",
    "            num_cleaned = num_cleaned + 1\n",
    "            room[pos[1]][pos[0]] = 1 #change to norm from dirty\n",
    "\n",
    "        else:\n",
    "            if action == \"north\":\n",
    "                pos[1] = pos[1] - 1\n",
    "            if action == \"south\":\n",
    "                pos[1] = pos[1] + 1\n",
    "            if action == \"east\":\n",
    "                pos[0] = pos[0] + 1\n",
    "            if action == \"west\":\n",
    "                pos[0] = pos[0] - 1\n",
    "\n",
    "        bumpers = find_next_path(max_tile)\n",
    "        # print(\"curr bumpers value: \" ,bumpers)\n",
    "\n",
    "    return float(num_cleaned/count_dirty)"
   ]
  },
  {
   "cell_type": "markdown",
   "metadata": {},
   "source": [
    "## Task 2:  Implement a simple reflex agent [10 Points] \n",
    "\n",
    "The simple reflex agent randomly walks around but reacts to the bumper sensor by not bumping into the wall and to dirt with sucking. Implement the agent program as a function.\n",
    "\n",
    "_Note:_ Agents cannot directly use variable in the environment. They only gets the percepts as the arguments to the agent function."
   ]
  },
  {
   "cell_type": "code",
   "execution_count": 6,
   "metadata": {},
   "outputs": [],
   "source": [
    "def reflex_agent(bumpers_in, is_dirty):\n",
    "    if is_dirty:\n",
    "        return \"suck\"\n",
    "    else:\n",
    "        # pick a random direction that the agent could move to\n",
    "        return np.random.choice([act for act in actions if (act != \"suck\" and bumpers_in[act] == False)])"
   ]
  },
  {
   "cell_type": "markdown",
   "metadata": {},
   "source": [
    "##### With every state when bumper updates, this simple reflex agent would either sucks when the floor is empty, or randomly picks a direction that it could head towards."
   ]
  },
  {
   "cell_type": "markdown",
   "metadata": {},
   "source": [
    "## Task 3: Implement a model-based reflex agent [20 Points]\n",
    "\n",
    "Model-based agents use a state to keep track of what they have done and perceived so far. Your agent needs to find out where it is located and then keep track of its current location. You also need a set of rules based on the state and the percepts to make sure that the agent will clean the whole room. For example, the agent can move to a corner to determine its location and then it can navigate through the whole room and clean dirty squares.\n",
    "\n",
    "Describe how you define the __agent state__ and how your agent works before implementing it. ([Help with implementing state information on Python](https://github.com/mhahsler/CS7320-AI/blob/master/Python_Code_Examples/store_agent_state_information.ipynb))"
   ]
  },
  {
   "cell_type": "markdown",
   "metadata": {},
   "source": [
    "## Each state:\n",
    "1. the environment calls the agent after the bumpers information have been updated based on its \"current location\" and \"floor_dirty\" information in the room\n",
    "2.  the model based reflex agent \"plans\" the next move based on the information updated by the environment, the logic:\n",
    "* if dirty, \"suck\"\n",
    "* else: \"the u-turn pattern\"\n",
    "    * if the agent has reached the corner once\n",
    "        * if the agent is not heading towards north:\n",
    "            * if the agent has not reached south boarder, go south\n",
    "            * else, move east and reverse turn direction to north\n",
    "        * else/if the agent is heading towards towards south\n",
    "            * if the agent has not reached north boarder, go north\n",
    "            * else, move east and reverse turn direction to south\n",
    "\n",
    "    * else:\n",
    "        * seek the left top [0,0] corner by moving towards west and north\n",
    "        * once corner has been reached, the agent does the \"u-turn\" pattern in the room\n"
   ]
  },
  {
   "cell_type": "code",
   "execution_count": 7,
   "metadata": {},
   "outputs": [],
   "source": [
    "class model_based_reflex_agent: #U-turn agent\n",
    "    def __init__(self, cornered_x=False, cornered_y=False):\n",
    "\n",
    "        self.is_cornered_x = cornered_x\n",
    "        self.is_cornered_y = cornered_y\n",
    "        self.turn = False #making U-turn\n",
    "        self.turn_direct = False # true=turn north, false=south\n",
    "\n",
    "\n",
    "    def act(self, bumpers_in, isDirty):\n",
    "        \n",
    "\n",
    "        if isDirty:\n",
    "            return \"suck\"\n",
    "        else:\n",
    "            # corner the agent to [0,0]\n",
    "            if self.is_cornered_x and self.is_cornered_y:  # when cornering is done\n",
    "                if not self.turn_direct:\n",
    "                    if not bumpers_in[\"south\"]:\n",
    "                        return \"south\" # when heading south but not reaching bottom\n",
    "                    else:\n",
    "                        self.turn_direct = not self.turn_direct # change direction\n",
    "                        #print(\"U-turning to NORTH\")\n",
    "                        return \"east\" # when heading south, reached bottom, then u-turn\n",
    "                else:\n",
    "                    if not bumpers_in[\"north\"]:\n",
    "                        return \"north\"  # when heading north but not reaching top\n",
    "                    else:\n",
    "                        self.turn_direct = not self.turn_direct # change direction\n",
    "                        #print(\"U-turning to SOUTH\")\n",
    "                        return \"east\"  # when heading north, reached bottom, then u-turn\n",
    "            else:  # when the agent haven't been cornered\n",
    "\n",
    "                if bumpers_in[\"west\"]:\n",
    "                    self.is_cornered_x = True\n",
    "                else:\n",
    "                    return \"west\"\n",
    "                if bumpers_in[\"north\"]:\n",
    "                    self.is_cornered_y = True\n",
    "                else:\n",
    "                    return \"north\"\n",
    "\n",
    "uturn_agent = model_based_reflex_agent()"
   ]
  },
  {
   "cell_type": "markdown",
   "metadata": {},
   "source": [
    "## Task 4: Simulation study [30 Points]\n",
    "\n",
    "Compare the performance (the performance measure is defined in the PEAS description above) of the agents using  environments of different size. E.g., $5 \\times 5$, $10 \\times 10$ and\n",
    "$100 \\times 100$. Use 100 random runs for each. Present the results using tables and graphs. Discuss the differences between the agents. \n",
    "([Help with charts and tables in Python](https://github.com/mhahsler/CS7320-AI/blob/master/Python_Code_Examples/charts_and_tables.ipynb))"
   ]
  },
  {
   "cell_type": "code",
   "execution_count": 8,
   "metadata": {},
   "outputs": [
    {
     "name": "stdout",
     "output_type": "stream",
     "text": [
      "average of model based clean 5x5:  1.0\n",
      "average of model based clean 10x10:  1.0\n",
      "average of model based clean 100x100:  1.0\n"
     ]
    }
   ],
   "source": [
    "\n",
    "\n",
    "def simulation_study():\n",
    "    # running random_agent on 5x5, 10x10, 100x100, 100 times each, take average\n",
    "    \n",
    "    # num of cleaned is the % of tiles cleaned each run\n",
    "    sum_of_random_clean5 = 0\n",
    "    for x in range(100):\n",
    "        num_cleaned = simple_environment(reflex_agent, 50, False, 5)\n",
    "        sum_of_random_clean5 += num_cleaned\n",
    "    avg_of_random_clean5 = sum_of_random_clean5 / 100\n",
    "    print(\"average of random clean 5x5: \", avg_of_random_clean5)\n",
    "\n",
    "    sum_of_random_clean10 = 0\n",
    "    # num of cleaned is the % of tiles cleaned each run\n",
    "    for x in range(100):\n",
    "        num_cleaned = simple_environment(reflex_agent, 200, False, 10)\n",
    "        sum_of_random_clean10 += num_cleaned\n",
    "    avg_of_random_clean10 = sum_of_random_clean10 / 100\n",
    "    print(\"average of random clean 10x10: \", avg_of_random_clean10)\n",
    "\n",
    "    sum_of_random_clean100 = 0\n",
    "    # num of cleaned is the % of tiles cleaned each run\n",
    "    for x in range(100):\n",
    "        num_cleaned = simple_environment(reflex_agent, 20000, False, 100)\n",
    "        sum_of_random_clean100 += num_cleaned\n",
    "    avg_of_random_clean100 = sum_of_random_clean100 / 100\n",
    "    print(\"average of random clean 100x100: \", avg_of_random_clean100)\n",
    "\n",
    "\n",
    "    # running simple_reflex_agent on 5x5, 10x10, 100x100, 100 times each, take average\n",
    "    sum_of_reflex_clean5=0\n",
    "    # num of cleaned is the % of tiles cleaned each run\n",
    "\n",
    "    for x in range (100):\n",
    "        num_cleaned = simple_environment(reflex_agent, 50, False, 5)\n",
    "        sum_of_reflex_clean5+=num_cleaned\n",
    "    avg_of_reflex_clean5=sum_of_reflex_clean5/100\n",
    "    print(\"average of reflex clean 5x5: \",avg_of_reflex_clean5)\n",
    "\n",
    "    sum_of_reflex_clean10=0\n",
    "    # num of cleaned is the % of tiles cleaned each run\n",
    "    for x in range (100):\n",
    "        num_cleaned = simple_environment(reflex_agent, 200, False, 10)\n",
    "        sum_of_reflex_clean10+=num_cleaned\n",
    "    avg_of_reflex_clean10=sum_of_reflex_clean10/100\n",
    "    print(\"average of reflex clean 10x10: \", avg_of_reflex_clean10)\n",
    "\n",
    "    sum_of_reflex_clean100 = 0\n",
    "    # num of cleaned is the % of tiles cleaned each run\n",
    "    for x in range(100):\n",
    "        num_cleaned = simple_environment(reflex_agent, 20000, False, 100)\n",
    "        sum_of_reflex_clean100 += num_cleaned\n",
    "    avg_of_reflex_clean100 = sum_of_reflex_clean100 / 100\n",
    "    print(\"average of reflex clean 100x100: \", avg_of_reflex_clean100)\n",
    "\n",
    "    \n",
    "    sum_of_model_clean5 = 0\n",
    "    # num of cleaned is the % of tiles cleaned each run\n",
    "    for x in range(100):\n",
    "        uturn_agent = model_based_reflex_agent(False, False)\n",
    "        num_cleaned = simple_environment(uturn_agent.act, 50, False, 5)\n",
    "        sum_of_model_clean5 += num_cleaned\n",
    "\n",
    "    avg_of_model_clean5 = sum_of_model_clean5 / 100\n",
    "    print(\"average of model based clean 5x5: \", avg_of_model_clean5)\n",
    "\n",
    "    uturn_agent = model_based_reflex_agent()\n",
    "    sum_of_model_clean10 = 0\n",
    "    # num of cleaned is the % of tiles cleaned each run\n",
    "    for x in range(100):\n",
    "        uturn_agent = model_based_reflex_agent()\n",
    "        num_cleaned = simple_environment(uturn_agent.act, 200, False, 10)\n",
    "        sum_of_model_clean10 += num_cleaned\n",
    "\n",
    "    avg_of_model_clean10 = sum_of_model_clean10 / 100\n",
    "    print(\"average of model based clean 10x10: \", avg_of_model_clean10)\n",
    "\n",
    "\n",
    "    sum_of_model_clean100 = 0\n",
    "    # num of cleaned is the % of tiles cleaned each run\n",
    "    for x in range(100):\n",
    "        uturn_agent = model_based_reflex_agent()\n",
    "        num_cleaned = simple_environment(uturn_agent.act, 20000, False, 100)\n",
    "        sum_of_model_clean100 += num_cleaned\n",
    "\n",
    "    avg_of_model_clean100 = sum_of_model_clean100 / 100\n",
    "    print(\"average of model based clean 100x100: \", avg_of_model_clean100)\n",
    "\n",
    "\n",
    "# run simulation study\n",
    "simulation_study()"
   ]
  },
  {
   "cell_type": "markdown",
   "metadata": {},
   "source": [
    "Fill out the following table with the average performance measure for 100 random runs (you may also create this table with code):\n",
    "\n",
    "| Size     | Randomized Agent | Simple Reflex Agent | Model-based Reflex Agent |\n",
    "|----------|------------------|---------------------|--------------------------|\n",
    "| 5x5     |0.640 |0.646 |1.0 |\n",
    "| 10x10   |0.537 |0.526 |1.0 |\n",
    "| 100x100 |0.370 |0.371 |1.0 |\n",
    "\n",
    "Add charts to compare the performance of the different agents."
   ]
  },
  {
   "cell_type": "markdown",
   "metadata": {},
   "source": [
    "\n",
    "#### 3 datasets: random vs simple reflex vs model based agents\n",
    "#### This graph shows the performance of our three agents when facing rooms with the scales of 5x5, 10x10, and 100x100. With 100 simulation runs on each size, we have taken an:\n",
    "#### Average of the percentage of dirty floors cleaned by the vacuum agent. This is how it was calculated:\n",
    "\n",
    "- a = dirty floors cleaned\n",
    "\n",
    "- b = total dirty tiles\n",
    "\n",
    "# $\\frac {\\sum_{}^{} \\frac{a}{b}} {100}$\n",
    "\n",
    "#### For the sake of efficiency, each simulation run has a limit amount of moves that the agent could make, scaling with the room size:\n",
    "- 5x5: $5^{2}$ *2\n",
    "- 10x10: $10^{2}$ *2\n",
    "- 100x100: $100^{2}$ *2"
   ]
  },
  {
   "cell_type": "code",
   "execution_count": 9,
   "metadata": {},
   "outputs": [
    {
     "name": "stdout",
     "output_type": "stream",
     "text": [
      "5x5 performance: \n"
     ]
    },
    {
     "data": {
      "image/png": "[encoded data removed]",
      "text/plain": [
       "<Figure size 432x288 with 1 Axes>"
      ]
     },
     "metadata": {
      "needs_background": "light"
     },
     "output_type": "display_data"
    },
    {
     "name": "stdout",
     "output_type": "stream",
     "text": [
      "10x10 performance: \n"
     ]
    },
    {
     "data": {
      "image/png": "[encoded data removed]",
      "text/plain": [
       "<Figure size 432x288 with 1 Axes>"
      ]
     },
     "metadata": {
      "needs_background": "light"
     },
     "output_type": "display_data"
    },
    {
     "name": "stdout",
     "output_type": "stream",
     "text": [
      "100x100 performance: \n"
     ]
    },
    {
     "data": {
      "image/png": "[encoded data removed]",
      "text/plain": [
       "<Figure size 432x288 with 1 Axes>"
      ]
     },
     "metadata": {
      "needs_background": "light"
     },
     "output_type": "display_data"
    }
   ],
   "source": [
    "# Your graphs and discussion of the results goes here\n",
    "import matplotlib.pyplot as plt\n",
    "import seaborn as sns \n",
    "\n",
    "agents=[\"randomized agent\", \"simple reflex agent\", \"model based reflex agent\"]\n",
    "data1=[0.640, 0.646, 1.0]\n",
    "data2=[0.537, 0.526, 1.0]\n",
    "data3=[0.370, 0.526, 1.0]\n",
    "\n",
    "# print title\n",
    "print(f\"5x5 performance: \")\n",
    "# plot bar graph\n",
    "plt.bar(agents, data1)\n",
    "plt.ylabel(\"% of dirty tiles covered\")\n",
    "plt.show()\n",
    "\n",
    "# print title\n",
    "print(f\"10x10 performance: \")\n",
    "# plot bar graph\n",
    "plt.bar(agents, data2)\n",
    "plt.ylabel(\"% of dirty tiles covered\")\n",
    "plt.show()\n",
    "\n",
    "# print title\n",
    "print(f\"100x100 performance: \")\n",
    "# plot bar graph\n",
    "plt.bar(agents, data3)\n",
    "plt.ylabel(\"% of dirty tiles covered\")\n",
    "plt.show()"
   ]
  },
  {
   "cell_type": "markdown",
   "metadata": {},
   "source": [
    "\n",
    "#### In comparison, while forfeiting the flexibility that random agent and simple reflex agents, model based reflex agent consistantly has a high performance in a room that doesn't have obstacles, as it completes the cleaning task every run.\n",
    "#### Simple reflex agent, based on the randomized agent, has a better performance since it eliminates the potential \"wrong steps\" (steps that runs the agent into a wall or randomly sucks). However, the performance still isn't as good as the model based reflex agent.\n",
    "#### Therefore, in a scenario that a room doesn't have have irregular shape or obstacles, the model based reflex agent functions the best.\n"
   ]
  },
  {
   "cell_type": "markdown",
   "metadata": {},
   "source": [
    "## Task 5: Robustness of the agent implementations [10 Points] \n",
    "\n",
    "Describe how your agent implementations will perform \n",
    "\n",
    "* if it is put into a rectangular room with unknown size, \n",
    "* if the cleaning area can have an iregular shape (e.g., a hallway connecting two rooms), or \n",
    "* if the room contains obstacles (i.e., squares that it cannot pass through and trigger the bumper sensors)."
   ]
  },
  {
   "cell_type": "markdown",
   "metadata": {},
   "source": [
    "1. if it is put into a rectangular room with unknown size, \n",
    "    * the model based agent would still complete its task because it would do the same thing of: moving to the northeast corner, then traverse through the room with U-turns. Random agent and simple reflex agent would still be performing not much different from a square room with known size.\n",
    "####\n",
    "\n",
    "2. if the cleaning area can have an iregular shape (e.g., a hallway connecting two rooms), or \n",
    "  if the room contains obstacles (i.e., squares that it cannot pass through and trigger the bumper sensors).\n",
    "\n",
    "    * In that case, it is likely that simple reflex agent and random agent could out-perform the model-based agent, since the model-based agent would be much less robust facing \"suprise\" obstacles or walls, when it anticipates the room to be a square or rectangle. "
   ]
  },
  {
   "cell_type": "markdown",
   "metadata": {},
   "source": [
    "## Graduate student advanced task: Obstacles [10 Points]\n",
    "\n",
    "__Undergraduate students:__ This is a bonus task you can attempt if you like [+5 Bonus Points].\n",
    "\n",
    "1. Change your simulation environment tor run experiments for the following problem: Add random obstacle squares that also trigger the bumper sensor. The agent does not know where the obstacles are. Observe how this changes the performance of the three implementations.\n",
    "\n",
    "2. Describe what would need to be done to perform better with obstacles. Add code if you can. "
   ]
  },
  {
   "cell_type": "markdown",
   "metadata": {},
   "source": [
    "1. After adding in obstacles, as I was expecting, while all of the runs take a lot of steps to traverse through all the dirty blocks, the model based agent got stuck and struggles to complete the task. Code as follows:"
   ]
  },
  {
   "cell_type": "code",
   "execution_count": 10,
   "metadata": {},
   "outputs": [],
   "source": [
    "# max_tile defines how large the room is, ex: max_tile=5, then the room is 5x5\n",
    "def find_next_path(max_tile):\n",
    "    # providing feedback to the agent based on the action taken\n",
    "    # reset the state of agent for update (check future to see if necessary)\n",
    "    # update to true when against a wall\n",
    "    global bumpers\n",
    "    bumpers = {\"north\": False, \"south\": False, \"west\": False, \"east\": False}\n",
    "    if pos[1] <= 0 or room[pos[1]][pos[0]]==3: bumpers[\"north\"] = True\n",
    "    if pos[1] >= max_tile or room[pos[1]][pos[0]]==3: bumpers[\"south\"] = True\n",
    "    if pos[0] <= 0 or room[pos[1]][pos[0]]==3: bumpers[\"west\"] = True\n",
    "    if pos[0] >= max_tile or room[pos[1]][pos[0]]==3: bumpers[\"east\"] = True\n",
    "\n",
    "\n",
    "def obstacle_environment(agent, max_steps, verbose=True, room_size=0):\n",
    "    # global values used in simple environment\n",
    "    global pos, bumpers, explored, frontier\n",
    "\n",
    "    max_tile = room_size - 1\n",
    "    # setup and print basic environment\n",
    "    startX = random.randint(0, max_tile)\n",
    "    startY = random.randint(0, max_tile)\n",
    "\n",
    "    pos = [startX, startY]\n",
    "    start = (startX, startY)\n",
    "\n",
    "    explored = [start]\n",
    "    frontier = [start]\n",
    "    agentMoves = 0  # counter for the amount of actions unitil all dirty sqaures are cleaned\n",
    "    p = 0  # possibility of dirty block\n",
    "    p_obs =0.0 # possibility of obstacle\n",
    "    # 0:dirty 1:obstacle 2:norm\n",
    "    room = np.random.choice([0, 1, 2], (room_size, room_size), [p, p_obs, 1-p-p_obs])  \n",
    "    \n",
    "    num_cleaned = 0\n",
    "    # setup bumper before calling agent for the first time\n",
    "    find_next_path(max_tile)\n",
    "\n",
    "    # get the amount of dirty floors in room\n",
    "    count_dirty = 0\n",
    "    for x in room:\n",
    "        for y in x:\n",
    "            if y==0: count_dirty += 1\n",
    "    \n",
    "\n",
    "    # loop as many times as steps allowed\n",
    "    for i in range(max_steps):\n",
    "        if(count_dirty == num_cleaned):\n",
    "            break\n",
    "        # update tile status\n",
    "        if room[pos[1]][pos[0]] == 0:\n",
    "            tile_dirty = True\n",
    "        else:\n",
    "            tile_dirty = False\n",
    "\n",
    "        # run agent\n",
    "        action = agent(bumpers, tile_dirty)\n",
    "        if (verbose): print(\"step\", i, \"- action:\", action)\n",
    "\n",
    "        # performing agent's action on the map\n",
    "        if action == \"suck\":\n",
    "            num_cleaned = num_cleaned + 1\n",
    "            room[pos[1]][pos[0]] = 1 #change to norm from dirty\n",
    "\n",
    "        else:\n",
    "            if action == \"north\":\n",
    "                pos[1] = pos[1] - 1\n",
    "            if action == \"south\":\n",
    "                pos[1] = pos[1] + 1\n",
    "            if action == \"east\":\n",
    "                pos[0] = pos[0] + 1\n",
    "            if action == \"west\":\n",
    "                pos[0] = pos[0] - 1\n",
    "\n",
    "        find_next_path(max_tile)\n",
    "\n",
    "    return float(num_cleaned/count_dirty)"
   ]
  },
  {
   "cell_type": "markdown",
   "metadata": {},
   "source": [
    "2. To better traverse through the room around obstacles or other difficult terrains, a goal based agent could be implemented as an agent that would run depth first search until it reaches every available tile on the map.\n",
    "The pseudocode could look like this:\n"
   ]
  },
  {
   "cell_type": "markdown",
   "metadata": {},
   "source": [
    "* stack explored\n",
    "* stack frontier\n",
    "* Order = East -> South -> West ->North\n",
    "* push the starting point into frontier and explored\n",
    "* repeat until all tiles been traversed or frontier is empty\n",
    "\n",
    "    \n",
    "    curr_tile = frontier.pop\n",
    "    for each direction :\n",
    "        next_tile = new potential curr_tile\n",
    "        if next_tile is in explored -> do nothing\n",
    "        else -> push next_tile into frontier and explored\n",
    "\n",
    "\n"
   ]
  },
  {
   "cell_type": "markdown",
   "metadata": {},
   "source": [
    "## More advanced implementation tasks\n",
    "\n",
    "* __Agent for and environment with obstacles:__ Implement an agent for an environment where the agent does not know how large the environment is (we assume it is rectangular), where it starts or where the obstacles are. An option would be to always move to the closest unchecked/uncleaned square (note that this is actualy depth-first search).\n",
    "\n",
    "* __Utility-based agent:__ Change the environment for a $5 \\times 5$ room, so each square has a fixed probability of getting dirty again. For the implementation, we give the environment a 2-dimensional array of probabilities. The utility of a state is defined as the number of currebntly clean squares in the room. Implement a utility-based agent that maximizes the expected utility over one full charge which lasts for 100000 time steps. To do this, the agent needs to learn the probabilities with which different squares get dirty again. This is very tricky!"
   ]
  },
  {
   "cell_type": "code",
   "execution_count": 11,
   "metadata": {},
   "outputs": [],
   "source": [
    "# Your ideas/code"
   ]
  }
 ],
 "metadata": {
  "kernelspec": {
   "display_name": "Python 3 (ipykernel)",
   "language": "python",
   "name": "python3"
  },
  "language_info": {
   "codemirror_mode": {
    "name": "ipython",
    "version": 3
   },
   "file_extension": ".py",
   "mimetype": "text/x-python",
   "name": "python",
   "nbconvert_exporter": "python",
   "pygments_lexer": "ipython3",
   "version": "3.10.0"
  },
  "toc-autonumbering": false
 },
 "nbformat": 4,
 "nbformat_minor": 4
}

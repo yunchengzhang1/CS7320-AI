{
 "cells": [
  {
   "cell_type": "markdown",
   "metadata": {},
   "source": [
    "# Solving the n-Queens Problem using Local Search\n",
    "\n",
    "## Instructions\n",
    "\n",
    "Total Points: Undergrads 100 / Graduate students 110\n",
    "\n",
    "Complete this notebook. Use the provided notebook cells and insert additional code and markdown cells as needed. Submit the completely rendered notebook as a PDF file. \n"
   ]
  },
  {
   "cell_type": "markdown",
   "metadata": {},
   "source": [
    "## The n-Queens Problem\n",
    "\n",
    "* __Goal:__ Find an arrangement of $n$ queens on a $n \\times n$ chess board so that no queen is on the same row, column or diagonal as any other queen.\n",
    "\n",
    "* __State space:__ An arrangement of the queens on the board. We restrict the state space to arrangements where there is only a single queen per column. We represent a state as an integer vector $\\mathbf{q} = \\{q_1, q_2, \\dots, q_n\\}$, each number representing the row positions of the queens from left to right. We will call a state a \"board.\"\n",
    "\n",
    "* __Objective function:__ The number of pairwise conflicts (i.e., two queens in the same row/column/diagonal).\n",
    "The optimization problem is to find the optimal arrangement $\\mathbf{q}^*$ of $n$ queens on the board can be written as:\n",
    "\n",
    "  > minimize: $\\mathrm{conflicts}(\\mathbf{q})$\n",
    "  >\n",
    "  > subject to: $\\mathbf{q} \\ \\text{contains only one queen per column}$\n",
    "\n",
    "  Note: the constraint (subject to) is enforced by the definition of the state space.\n",
    "\n",
    "* __Local improvement move:__ Move one queen to a different row in its column.\n",
    "\n",
    "* __Termination:__ For this problem there is always an arrangement $\\mathbf{q}^*$ with $\\mathrm{conflicts}(\\mathbf{q}^*) = 0$, however, the local improvement moves might end up in a local minimum. "
   ]
  },
  {
   "cell_type": "markdown",
   "metadata": {},
   "source": [
    "## Helper functions"
   ]
  },
  {
   "cell_type": "code",
   "execution_count": 8,
   "metadata": {},
   "outputs": [],
   "source": [
    "import numpy as np\n",
    "import random\n",
    "import matplotlib.pyplot as plt\n",
    "import time\n",
    "from matplotlib import colors\n",
    "\n",
    "\n",
    "\n",
    "def random_board(n):\n",
    "    \"\"\"Creates a random board of size n x n. Note that only a single queen is placed in each column!\"\"\"\n",
    "    \n",
    "    return(np.random.randint(0,n, size = n))\n",
    "\n",
    "def comb2(n): return n*(n-1)//2 # this is n choose 2 equivalent to math.comb(n, 2); // is int division\n",
    "\n",
    "def conflicts(board):\n",
    "    \"\"\"Caclulate the number of conflicts, i.e., the objective function.\"\"\"\n",
    "\n",
    "    n = len(board)\n",
    "    \n",
    "    horizontal_cnt = [0] * n\n",
    "    diagonal1_cnt = [0] * 2 * n\n",
    "    diagonal2_cnt = [0] * 2 * n\n",
    "    \n",
    "    for i in range(n):\n",
    "        horizontal_cnt[board[i]] += 1\n",
    "        diagonal1_cnt[i + board[i]] += 1\n",
    "        diagonal2_cnt[i - board[i] + n] += 1\n",
    "    \n",
    "    return sum(map(comb2, horizontal_cnt + diagonal1_cnt + diagonal2_cnt))\n",
    "\n",
    "\n",
    "def show_board(board, cols = ['white', 'gray'], fontsize = 48):  \n",
    "    \"\"\"display the board\"\"\"\n",
    "    \n",
    "    n = len(board)\n",
    "    \n",
    "    # create chess board display\n",
    "    display = np.zeros([n,n])\n",
    "    for i in range(n):\n",
    "        for j in range(n):\n",
    "            if (((i+j) % 2) != 0): \n",
    "                display[i,j] = 1\n",
    "    \n",
    "    cmap = colors.ListedColormap(cols)\n",
    "    fig, ax = plt.subplots()\n",
    "    ax.imshow(display, cmap = cmap, \n",
    "              norm = colors.BoundaryNorm(range(len(cols)+1), cmap.N))\n",
    "    ax.set_xticks([])\n",
    "    ax.set_yticks([])\n",
    "    \n",
    "    # place queens. Note: Unicode u265B is a black queen\n",
    "    for j in range(n):\n",
    "        plt.text(j, board[j], u\"\\u265B\", fontsize = fontsize, \n",
    "                 horizontalalignment = 'center',\n",
    "                 verticalalignment = 'center')\n",
    "    \n",
    "    print(f\"Board with {conflicts(board)} conflicts.\")\n",
    "    plt.show()"
   ]
  },
  {
   "cell_type": "markdown",
   "metadata": {},
   "source": [
    "## Create a board"
   ]
  },
  {
   "cell_type": "code",
   "execution_count": 9,
   "metadata": {},
   "outputs": [
    {
     "name": "stdout",
     "output_type": "stream",
     "text": [
      "Board with 8 conflicts.\n"
     ]
    },
    {
     "data": {
      "image/png": "[encoded data removed]",
      "text/plain": [
       "<Figure size 432x288 with 1 Axes>"
      ]
     },
     "metadata": {},
     "output_type": "display_data"
    },
    {
     "name": "stdout",
     "output_type": "stream",
     "text": [
      "Queens (left to right) are at rows: [4 2 6 6 6 3 4 7]\n",
      "Number of conflicts: 8\n"
     ]
    }
   ],
   "source": [
    "size = 8\n",
    "board = random_board(size)\n",
    "\n",
    "show_board(board)\n",
    "print(f\"Queens (left to right) are at rows: {board}\")\n",
    "print(f\"Number of conflicts: {conflicts(board)}\")"
   ]
  },
  {
   "cell_type": "markdown",
   "metadata": {},
   "source": [
    "A board $4 \\times 4$ with no conflicts:"
   ]
  },
  {
   "cell_type": "code",
   "execution_count": 10,
   "metadata": {},
   "outputs": [
    {
     "name": "stdout",
     "output_type": "stream",
     "text": [
      "Board with 0 conflicts.\n"
     ]
    },
    {
     "data": {
      "image/png": "[encoded data removed]",
      "text/plain": [
       "<Figure size 432x288 with 1 Axes>"
      ]
     },
     "metadata": {},
     "output_type": "display_data"
    }
   ],
   "source": [
    "exp_board = [1,3,0,2]\n",
    "show_board(exp_board)"
   ]
  },
  {
   "cell_type": "markdown",
   "metadata": {},
   "source": [
    "# Tasks\n",
    "\n",
    "## General [10 Points]\n",
    "\n",
    "1. Make sure that you use the latest version of this notebook. Sync your forked repository and pull the latest revision. \n",
    "2. Your implementation can use libraries like math, numpy, scipy, but not libraries that implement inteligent agents or complete search algorithms. Try to keep the code simple! In this course, we want to learn about the algorithms and we often do not need to use object-oriented design.\n",
    "3. You notebook needs to be formated professionally. \n",
    "    - Add additional markdown blocks for your description, comments in the code, add tables and use mathplotlib to produce charts where appropriate\n",
    "    - Do not show debugging output or include an excessive amount of output.\n",
    "    - Check that your PDF file is readable. For example, long lines are cut off in the PDF file. You don't have control over page breaks, so do not worry about these.\n",
    "4. Document your code. Add a short discussion of how your implementation works and your design choices."
   ]
  },
  {
   "cell_type": "markdown",
   "metadata": {},
   "source": [
    "## Task 1: Steepest-ascend Hill Climbing Search [30 Points]\n",
    "\n",
    "Calculate the objective function for all local moves (see definition of local moves above) and always choose the best among all local moves. If there are no local moves that improve the objective, then you have reached a local optimum. "
   ]
  },
  {
   "cell_type": "code",
   "execution_count": 11,
   "metadata": {},
   "outputs": [
    {
     "name": "stdout",
     "output_type": "stream",
     "text": [
      "Board with 2 conflicts.\n"
     ]
    },
    {
     "data": {
      "image/png": "[encoded data removed]",
      "text/plain": [
       "<Figure size 432x288 with 1 Axes>"
      ]
     },
     "metadata": {},
     "output_type": "display_data"
    },
    {
     "name": "stdout",
     "output_type": "stream",
     "text": [
      "Queens (left to right) are at rows: [5 2 1 6 0 3 4 7]\n",
      "Number of conflicts: 2\n"
     ]
    }
   ],
   "source": [
    "def steepest_ascend_hill_climbing(board, size):\n",
    "    curr = board.copy()\n",
    "    local_best = conflicts(curr)\n",
    "    updated = False\n",
    "    update_counter = 0\n",
    "\n",
    "    while True:\n",
    "        # try every move with conflicts\n",
    "        for i in range(size):\n",
    "            for j in range(size):\n",
    "                # reset try_curr every time\n",
    "                try_curr = curr.copy()\n",
    "                try_curr[i] = j\n",
    "                try_num = conflicts(try_curr)\n",
    "                # print(\"update try_curr to:\", try_curr, try_num, local_best)\n",
    "                # show_board(try_curr)\n",
    "                if (try_num < local_best):\n",
    "                    local_best = try_num\n",
    "                    updated = True\n",
    "                    # print(\"updating curr with \", try_curr)\n",
    "                    curr = try_curr\n",
    "                    # print(\"updated curr to \", curr)\n",
    "                    # show_board(curr)\n",
    "                    # print(\"------------------------------------------------------------\")\n",
    "        # after looping through all options\n",
    "        update_counter +=1\n",
    "        if updated:\n",
    "            updated = False\n",
    "        else:\n",
    "            # already the local best possible (could get stuck)\n",
    "            # print(\"total run done, searches count: \", update_counter)\n",
    "            return curr \n",
    "\n",
    "SAHC_board = steepest_ascend_hill_climbing(board, size)\n",
    "show_board(SAHC_board)\n",
    "print(f\"Queens (left to right) are at rows: {SAHC_board}\")\n",
    "print(f\"Number of conflicts: {conflicts(SAHC_board)}\")\n",
    "\n",
    "\n"
   ]
  },
  {
   "cell_type": "markdown",
   "metadata": {},
   "source": [
    "## Task 2: Stochastic Hill Climbing 1 [10 Points]\n",
    "\n",
    "Chooses randomly from among all uphill moves till you have reached a local optimum."
   ]
  },
  {
   "cell_type": "code",
   "execution_count": 12,
   "metadata": {},
   "outputs": [
    {
     "name": "stdout",
     "output_type": "stream",
     "text": [
      "Board with 1 conflicts.\n"
     ]
    },
    {
     "data": {
      "image/png": "[encoded data removed]",
      "text/plain": [
       "<Figure size 432x288 with 1 Axes>"
      ]
     },
     "metadata": {},
     "output_type": "display_data"
    },
    {
     "name": "stdout",
     "output_type": "stream",
     "text": [
      "Queens (left to right) are at rows: [4 2 5 6 1 3 0 7]\n",
      "Number of conflicts: 1\n"
     ]
    }
   ],
   "source": [
    "# Code and description go here\n",
    "def stochastic_hill_climbing(board, size):\n",
    "    curr = board.copy()\n",
    "    local_best = conflicts(curr)\n",
    "    updated = False\n",
    "    update_counter = 0\n",
    "    potential_moves=[]\n",
    "    potential_moves.append(curr)\n",
    "    while True:\n",
    "        # try every move with conflicts\n",
    "        for i in range(size):\n",
    "            for j in range(size):\n",
    "                # reset try_curr every time\n",
    "                try_curr = curr.copy()\n",
    "                try_curr[i] = j\n",
    "                try_num = conflicts(try_curr)\n",
    "                # print(\"update try_curr to:\", try_curr, try_num, local_best)\n",
    "                \n",
    "                if try_num < local_best:\n",
    "                    local_best = try_num\n",
    "                    updated = True\n",
    "                    # if new best appears, refill the array\n",
    "                    potential_moves.clear()\n",
    "                    potential_moves.append(try_curr)\n",
    "                    # print(\"updating curr with \", try_curr)\n",
    "                    \n",
    "                    # print(\"updated curr to \", curr)\n",
    "                    # show_board(curr)\n",
    "                    # print(\"------------------------------------------------------------\")\n",
    "                elif try_num == local_best:\n",
    "                    # if try_num equals to the current best, list it as one of the options\n",
    "                    # print(try_num, \" equals \", local_best, try_curr)\n",
    "                    potential_moves.append(try_curr)\n",
    "\n",
    "        # print(\"ij done, \", potential_moves)\n",
    "        # after looping through all options\n",
    "        update_counter +=1\n",
    "        if updated:\n",
    "            updated = False\n",
    "            \n",
    "            curr = random.choice(potential_moves)\n",
    "            # print(\"random curr: \", curr)\n",
    "            # temp = random.choice(potential_moves)\n",
    "            # print(\"temp:\", temp)\n",
    "            # print(\"updated curr to \", curr)\n",
    "        else:\n",
    "            # already the local best possible (could get stuck)\n",
    "            # print(\"total run done, searches count: \", update_counter)\n",
    "            return curr \n",
    "\n",
    "SHC_board = stochastic_hill_climbing(board, size)\n",
    "show_board(SHC_board)\n",
    "print(f\"Queens (left to right) are at rows: {SHC_board}\")\n",
    "print(f\"Number of conflicts: {conflicts(SHC_board)}\")"
   ]
  },
  {
   "cell_type": "markdown",
   "metadata": {},
   "source": [
    "## Task 3: Stochastic Hill Climbing 2 [20 Points]\n",
    "\n",
    "A popular version of stochastic hill climbing generates only a single random local neighbor at a time and accept it if it has a better objective function value than the current state. This is very efficient if each state has many possible successor states. This method is called \"First-choice hill climbing\" in the textbook.\n",
    "\n",
    "__Notes:__ \n",
    "\n",
    "* Detecting local optima is tricky! You can, for example, stop if you were not able to improve the objective function during the last $x$ tries."
   ]
  },
  {
   "cell_type": "code",
   "execution_count": 13,
   "metadata": {},
   "outputs": [
    {
     "name": "stdout",
     "output_type": "stream",
     "text": [
      "Board with 0 conflicts.\n"
     ]
    },
    {
     "data": {
      "image/png": "[encoded data removed]",
      "text/plain": [
       "<Figure size 432x288 with 1 Axes>"
      ]
     },
     "metadata": {},
     "output_type": "display_data"
    },
    {
     "name": "stdout",
     "output_type": "stream",
     "text": [
      "Queens (left to right) are at rows: [0 6 4 7 1 3 5 2]\n",
      "Number of conflicts: 0\n"
     ]
    }
   ],
   "source": [
    "\n",
    "def stochastic_hill_climbing2(limit, board, size):\n",
    "    temp_board = board.copy()\n",
    "    # show_board(temp_board)\n",
    "    for x in range(limit):\n",
    "        conf = conflicts(temp_board)\n",
    "        new_board = random_board(size)\n",
    "        # show_board(new_board)\n",
    "        temp_conf = conflicts(new_board)\n",
    "        if conf > temp_conf:\n",
    "            temp_board = new_board.copy()\n",
    "            # print(\"copy\")\n",
    "\n",
    "    # print(\"new board generated: \", temp_board)\n",
    "    # print(\"new board conflicts: \", conflicts(temp_board))\n",
    "    # show_board(temp_board)\n",
    "\n",
    "    curr = temp_board.copy()\n",
    "    local_best = conflicts(curr)\n",
    "    updated = False\n",
    "    update_counter = 0\n",
    "    potential_moves=[]\n",
    "    potential_moves.append(curr)\n",
    "    while True:\n",
    "        # try every move with conflicts\n",
    "        for i in range(size):\n",
    "            for j in range(size):\n",
    "                # reset try_curr every time\n",
    "                try_curr = curr.copy()\n",
    "                try_curr[i] = j\n",
    "                try_num = conflicts(try_curr)\n",
    "                # print(\"update try_curr to:\", try_curr, try_num, local_best)\n",
    "                \n",
    "                if try_num < local_best:\n",
    "                    local_best = try_num\n",
    "                    updated = True\n",
    "                    # if new best appears, refill the array\n",
    "                    potential_moves.clear()\n",
    "                    potential_moves.append(try_curr)\n",
    "                    # print(\"updating curr with \", try_curr)\n",
    "                    \n",
    "                    # print(\"updated curr to \", curr)\n",
    "                    # show_board(curr)\n",
    "                    # print(\"------------------------------------------------------------\")\n",
    "                elif try_num == local_best:\n",
    "                    # if try_num equals to the current best, list it as one of the options\n",
    "                    # print(try_num, \" equals \", local_best, try_curr)\n",
    "                    potential_moves.append(try_curr)\n",
    "\n",
    "        # print(\"ij done, \", potential_moves)\n",
    "        # after looping through all options\n",
    "        update_counter +=1\n",
    "        if updated:\n",
    "            updated = False\n",
    "            \n",
    "            curr = random.choice(potential_moves)\n",
    "            # print(\"random curr: \", curr)\n",
    "            # temp = random.choice(potential_moves)\n",
    "            # print(\"temp:\", temp)\n",
    "            # print(\"updated curr to \", curr)\n",
    "        else:\n",
    "            # already the local best possible (could get stuck)\n",
    "            # print(\"total run done, searches count: \", update_counter)\n",
    "            return curr \n",
    "\n",
    "SHC_board2 = stochastic_hill_climbing2(10, board, size)\n",
    "show_board(SHC_board2)\n",
    "print(f\"Queens (left to right) are at rows: {SHC_board2}\")\n",
    "print(f\"Number of conflicts: {conflicts(SHC_board2)}\")"
   ]
  },
  {
   "cell_type": "markdown",
   "metadata": {},
   "source": [
    "## Task 4: Hill Climbing Search with Random Restarts [10 Points]\n",
    "\n",
    "Hill climbing will often end up in local optima. Restart the each of the three hill climbing algorithm up to 100 times with a random board to find a better (hopefully optimal) solution. Note that restart just means to run the algoithm several times starting with a new random board."
   ]
  },
  {
   "cell_type": "code",
   "execution_count": 14,
   "metadata": {},
   "outputs": [
    {
     "name": "stdout",
     "output_type": "stream",
     "text": [
      "optimal result:\n",
      "Board with 0 conflicts.\n"
     ]
    },
    {
     "data": {
      "image/png": "[encoded data removed]",
      "text/plain": [
       "<Figure size 432x288 with 1 Axes>"
      ]
     },
     "metadata": {},
     "output_type": "display_data"
    }
   ],
   "source": [
    "# Code and description go here\n",
    "def random_restarts(board_size):\n",
    "    optimal_board= random_board(board_size)\n",
    "    optimal_num = board_size\n",
    "    for x in range(100):\n",
    "        new_board1 = random_board(board_size)\n",
    "\n",
    "        temp_SAHC_board = steepest_ascend_hill_climbing(new_board1, board_size)\n",
    "        temp_SAHC_board_conf = conflicts(temp_SAHC_board)\n",
    "        if (conflicts(temp_SAHC_board)<optimal_num):\n",
    "            optimal_board = temp_SAHC_board\n",
    "            optimal_num = temp_SAHC_board_conf\n",
    "\n",
    "        temp_SHC_board = stochastic_hill_climbing(new_board1, board_size)\n",
    "        temp_SHC_board_conf = conflicts(temp_SHC_board)\n",
    "        if (conflicts(temp_SAHC_board)<optimal_num):\n",
    "            optimal_board = temp_SHC_board\n",
    "            optimal_num = temp_SHC_board_conf\n",
    "\n",
    "        temp_SHC_board2 = stochastic_hill_climbing2(10, new_board1, board_size)\n",
    "        temp_SHC_board2_conf = conflicts(temp_SHC_board2)\n",
    "        if (conflicts(temp_SAHC_board)<optimal_num):\n",
    "            optimal_board = temp_SHC_board2\n",
    "            optimal_num = temp_SHC_board2_conf\n",
    "    \n",
    "    print(\"optimal result:\")\n",
    "    show_board(optimal_board)\n",
    "    \n",
    "        \n",
    "    \n",
    "\n",
    "random_restarts(8)\n"
   ]
  },
  {
   "cell_type": "markdown",
   "metadata": {},
   "source": [
    "## Task 5: Compare Performance [20 Points]\n",
    "\n",
    "Use runtime and objective function value to compare the algorithms. \n",
    "\n",
    "* Use boards of different sizes to explore how the different algorithms perform. Make sure that you run the algorithms for each board size several times (at least 10 times) with different starting boards and report averages.\n",
    "\n",
    "* How do the algorithms scale with problem size? Use tables and charts.\n",
    "\n",
    "* What is the largest board each algorithm can solve in a reasonable amount time?\n",
    "\n",
    "See [Profiling Python Code](../Python_Code_Examples/profiling_code.ipynb) for help about how to measure runtime in Python."
   ]
  },
  {
   "cell_type": "code",
   "execution_count": 15,
   "metadata": {},
   "outputs": [
    {
     "name": "stdout",
     "output_type": "stream",
     "text": [
      "AVG runtime of 3 methods from size of 3 to 20, each ran for 20 times\n"
     ]
    },
    {
     "data": {
      "image/png": "[encoded data removed]",
      "text/plain": [
       "<Figure size 432x288 with 1 Axes>"
      ]
     },
     "metadata": {
      "needs_background": "light"
     },
     "output_type": "display_data"
    }
   ],
   "source": [
    "def compare(board_size, run):\n",
    "    optimal_board= random_board(board_size)\n",
    "    optimal_num = board_size\n",
    "\n",
    "    SAHC_time_sum=0\n",
    "    SHC_time_sum=0\n",
    "    SHC2_time_sum=0\n",
    "    SAHC_conf_sum=0\n",
    "    SHC_conf_sum=0\n",
    "    SHC2_conf_sum=0\n",
    "    # measure total time for 3 methods \n",
    "    for x in range(run):\n",
    "        new_board1 = random_board(board_size)\n",
    "        t0 = time.time()\n",
    "        temp_SAHC_board = steepest_ascend_hill_climbing(new_board1, board_size)\n",
    "        t1 = time.time()\n",
    "        SAHC_time_sum += (t1-t0)\n",
    "        SAHC_conf_sum += conflicts(temp_SAHC_board)\n",
    "\n",
    "        t2 = time.time()\n",
    "        temp_SHC_board = stochastic_hill_climbing(new_board1, board_size)\n",
    "        t3 = time.time()\n",
    "        SHC_time_sum += (t3-t2)\n",
    "        SHC_conf_sum += conflicts(temp_SHC_board)\n",
    "        \n",
    "        t4 = time.time()\n",
    "        temp_SHC_board2 = stochastic_hill_climbing2(10, new_board1, board_size)\n",
    "        t5 = time.time()\n",
    "        SHC2_time_sum += (t5-t4)\n",
    "        SHC2_conf_sum += conflicts(temp_SHC_board2)\n",
    "    \n",
    "    SAHC_time_avg= SAHC_time_sum/run\n",
    "    SHC_time_avg= SHC_time_sum/run\n",
    "    SHC2_time_avg= SHC2_time_sum/run\n",
    "    SAHC_conf_avg= SAHC_conf_sum/run\n",
    "    SHC_conf_avg= SHC_conf_sum/run\n",
    "    SHC2_conf_avg= SHC2_conf_sum/run\n",
    "    buff = [SAHC_time_avg, SHC_time_avg, SHC2_time_avg, SAHC_conf_avg, SHC_conf_avg, SHC2_conf_avg]\n",
    "    return buff\n",
    "\n",
    "# utilize function compare\n",
    "# init containers\n",
    "SAHC_time_set= []\n",
    "SHC_time_set= []\n",
    "SHC2_time_set= []\n",
    "SAHC_conf_set=[]\n",
    "SHC_conf_set=[]\n",
    "SHC2_conf_set=[]\n",
    "x=[]\n",
    "\n",
    "# loop for different sizes\n",
    "for i in range(3, 20):\n",
    "    temp_comp = compare(i, 20)\n",
    "    x.append(i)\n",
    "    SAHC_time_set.append(temp_comp[0])\n",
    "    SHC_time_set.append(temp_comp[1])\n",
    "    SHC2_time_set.append(temp_comp[2])\n",
    "    SAHC_conf_set.append(temp_comp[3])\n",
    "    SHC_conf_set.append(temp_comp[4])\n",
    "    SHC2_conf_set.append(temp_comp[5])\n",
    "\n",
    "\n",
    "plt.plot(x, SAHC_time_set, label = \"SAHC\")\n",
    "plt.plot(x, SHC_time_set, label = \"SHC\")\n",
    "plt.plot(x, SHC2_time_set, label = \"SHC2\")\n",
    "plt.xlabel(\"board size\")\n",
    "plt.ylabel(\"runtime\")\n",
    "plt.legend()\n",
    "print(\"AVG runtime of 3 methods from size of 3 to 20, each ran for 20 times\")\n",
    "plt.show()"
   ]
  },
  {
   "cell_type": "markdown",
   "metadata": {},
   "source": [
    "SAHC's runtime scales the best with the increase of board size."
   ]
  },
  {
   "cell_type": "code",
   "execution_count": 16,
   "metadata": {},
   "outputs": [
    {
     "name": "stdout",
     "output_type": "stream",
     "text": [
      "AVG conflicts of 3 methods from size of 3 to 20, each ran for 20 times\n"
     ]
    },
    {
     "data": {
      "image/png": "[encoded data removed]",
      "text/plain": [
       "<Figure size 432x288 with 1 Axes>"
      ]
     },
     "metadata": {
      "needs_background": "light"
     },
     "output_type": "display_data"
    }
   ],
   "source": [
    "plt.plot(x, SAHC_conf_set, label = \"SAHC\")\n",
    "plt.plot(x, SHC_conf_set, label = \"SHC\")\n",
    "plt.plot(x, SHC2_conf_set, label = \"SHC2\")\n",
    "plt.xlabel(\"board size\")\n",
    "plt.ylabel(\"conflicts\")\n",
    "plt.legend()\n",
    "print(\"AVG conflicts of 3 methods from size of 3 to 20, each ran for 20 times\")\n",
    "plt.show()"
   ]
  },
  {
   "cell_type": "markdown",
   "metadata": {},
   "source": [
    "There isn't a strong connection between the conflicts that three algorithms end up with when we compare them. However, the number of conflicts tend to scale up with the board size."
   ]
  },
  {
   "cell_type": "code",
   "execution_count": 18,
   "metadata": {},
   "outputs": [
    {
     "name": "stdout",
     "output_type": "stream",
     "text": [
      "SAHC max board within 5 sec\n",
      "size of  108  with runtime of  5.066998481750488\n",
      "-------------------------------------------------------------\n"
     ]
    }
   ],
   "source": [
    "# to test the largest board each algorithm could calculate within 10 sec:\n",
    "print(\"SAHC max board within 5 sec\")\n",
    "SAHC_time =0\n",
    "for i in range(100, 10000):\n",
    "    new_board1 = random_board(i)\n",
    "    t0 = time.time()\n",
    "    temp_SAHC_board = steepest_ascend_hill_climbing(new_board1, i)\n",
    "    t1 = time.time()\n",
    "    SAHC_time = (t1-t0)\n",
    "    if SAHC_time> 5:\n",
    "        print(\"size of \", i, \" with runtime of \", SAHC_time)\n",
    "        break\n",
    "print(\"-------------------------------------------------------------\")\n",
    "\n",
    "\n",
    "\n"
   ]
  },
  {
   "cell_type": "code",
   "execution_count": 19,
   "metadata": {},
   "outputs": [
    {
     "name": "stdout",
     "output_type": "stream",
     "text": [
      "SHC max board within 5 sec\n",
      "size of  100  with runtime of  57.81225943565369\n",
      "-------------------------------------------------------------\n"
     ]
    }
   ],
   "source": [
    "print(\"SHC max board within 5 sec\")\n",
    "SHC_time=0\n",
    "for i in range(100, 10000):\n",
    "    new_board1 = random_board(i)\n",
    "    t0 = time.time()\n",
    "    temp_SHC_board = stochastic_hill_climbing(new_board1, i)\n",
    "    t1 = time.time()\n",
    "    SHC_time = (t1-t0)\n",
    "    if SHC_time> 5:\n",
    "        print(\"size of \", i, \" with runtime of \", SHC_time)\n",
    "        break\n",
    "print(\"-------------------------------------------------------------\")"
   ]
  },
  {
   "cell_type": "code",
   "execution_count": 20,
   "metadata": {},
   "outputs": [
    {
     "name": "stdout",
     "output_type": "stream",
     "text": [
      "SHC2 max board within 5 sec\n",
      "size of  100  with runtime of  57.81225943565369\n"
     ]
    }
   ],
   "source": [
    "print(\"SHC2 max board within 5 sec\")\n",
    "SHC2_time =0\n",
    "for i in range(100, 10000):\n",
    "    new_board1 = random_board(i)\n",
    "    t0 = time.time()\n",
    "    temp_SHC2_board = stochastic_hill_climbing2(10, new_board1, i)\n",
    "    t1 = time.time()\n",
    "    SHC2_time = (t1-t0)\n",
    "    if SHC2_time> 5:\n",
    "        print(\"size of \", i, \" with runtime of \", SHC_time)\n",
    "        break"
   ]
  },
  {
   "cell_type": "markdown",
   "metadata": {},
   "source": [
    "## Graduate student advanced task: Simulated Annealing [10 Points]\n",
    "\n",
    "__Undergraduate students:__ This is a bonus task you can attempt if you like [+5 Bonus Points].\n",
    "\n",
    "Simulated annealing is a form of stochastic hill climbing that avoid local optima by also allowing downhill moves with a probability proportional to a temperature. The temperature is decreased in every iteration following an annealing schedule. You have to experiment with the annealing schedule (Google to find guidance on this).\n",
    "\n",
    "\n",
    "1. Implement simulated annealing for the n-Queens problem.\n",
    "2. Compare the performance with the previous algorithms. \n",
    "2. Discuss your choice of annealing schedule."
   ]
  },
  {
   "cell_type": "code",
   "execution_count": 21,
   "metadata": {
    "tags": []
   },
   "outputs": [],
   "source": [
    "# Code and description go here"
   ]
  },
  {
   "cell_type": "markdown",
   "metadata": {},
   "source": [
    "## More things to do\n",
    "\n",
    "Implement a Genetic Algorithm for the n-Queens problem."
   ]
  },
  {
   "cell_type": "code",
   "execution_count": 22,
   "metadata": {
    "tags": []
   },
   "outputs": [],
   "source": [
    "# Code and description go here"
   ]
  }
 ],
 "metadata": {
  "kernelspec": {
   "display_name": "Python 3 (ipykernel)",
   "language": "python",
   "name": "python3"
  },
  "language_info": {
   "codemirror_mode": {
    "name": "ipython",
    "version": 3
   },
   "file_extension": ".py",
   "mimetype": "text/x-python",
   "name": "python",
   "nbconvert_exporter": "python",
   "pygments_lexer": "ipython3",
   "version": "3.10.0"
  },
  "toc-autonumbering": false,
  "toc-showcode": false,
  "toc-showmarkdowntxt": false,
  "toc-showtags": false
 },
 "nbformat": 4,
 "nbformat_minor": 4
}

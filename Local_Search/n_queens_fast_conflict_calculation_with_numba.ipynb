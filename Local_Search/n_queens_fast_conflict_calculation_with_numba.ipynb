{
 "cells": [
  {
   "cell_type": "markdown",
   "metadata": {},
   "source": [
    "# Speeding up the objective function calculation using numba\n",
    "\n",
    "The objective function is evaluated over and over again and it makes sense to spent some time to make it faster. Here we use the just-in-time compilation option from `numba`.\n"
   ]
  },
  {
   "cell_type": "markdown",
   "metadata": {},
   "source": [
    "## The n-Queens Problem\n",
    "\n",
    "* __Goal:__ Find an arrangement of $n$ queens on a $n \\times n$ chess board so that no queen is on the same row, column or diagonal as any other queen.\n",
    "\n",
    "* __State space:__ An arrangement of the queens on the board. We restrict the state space to arrangements where there is only a single queen per column. We represent a state as an integer vector $\\mathbf{q} = \\{q_1, q_2, \\dots, q_n\\}$, each number representing the row positions of the queens from left to right. We will call a state a \"board.\"\n",
    "\n",
    "* __Objective function:__ The number of pairwise conflicts (i.e., two queens in the same row/column/diagonal).\n",
    "The optimization problem is to find the optimal arrangement $\\mathbf{q}^*$ of $n$ queens on the board can be written as:\n",
    "\n",
    "  > minimize: $\\mathrm{conflicts}(\\mathbf{q})$\n",
    "  >\n",
    "  > subject to: $\\mathbf{q} \\ \\text{contains only one queen per column}$\n",
    "\n",
    "  Note: the constraint (subject to) is enforced by the definition of the state space.\n",
    "\n",
    "* __Local improvement move:__ Move one queen to a different row in its column.\n",
    "\n",
    "* __Termination:__ For this problem there is always an arrangement $\\mathbf{q}^*$ with $\\mathrm{conflicts}(\\mathbf{q}^*) = 0$, however, the local improvement moves might end up in a local minimum. "
   ]
  },
  {
   "cell_type": "markdown",
   "metadata": {},
   "source": [
    "## Objective function calculation\n",
    "\n",
    "We use just-in-time compilation for the conflicts function. Code provided by Troy McNitt."
   ]
  },
  {
   "cell_type": "code",
   "execution_count": 2,
   "metadata": {},
   "outputs": [
    {
     "ename": "ModuleNotFoundError",
     "evalue": "No module named 'numba'",
     "output_type": "error",
     "traceback": [
      "\u001b[1;31m---------------------------------------------------------------------------\u001b[0m",
      "\u001b[1;31mModuleNotFoundError\u001b[0m                       Traceback (most recent call last)",
      "\u001b[1;32mc:\\Users\\AZ\\Documents\\GitHub\\CS7320-AI\\Local_Search\\n_queens_fast_conflict_calculation_with_numba.ipynb Cell 4'\u001b[0m in \u001b[0;36m<module>\u001b[1;34m\u001b[0m\n\u001b[0;32m      <a href='vscode-notebook-cell:/c%3A/Users/AZ/Documents/GitHub/CS7320-AI/Local_Search/n_queens_fast_conflict_calculation_with_numba.ipynb#ch0000003?line=1'>2</a>\u001b[0m \u001b[39mimport\u001b[39;00m \u001b[39mmatplotlib\u001b[39;00m\u001b[39m.\u001b[39;00m\u001b[39mpyplot\u001b[39;00m \u001b[39mas\u001b[39;00m \u001b[39mplt\u001b[39;00m\n\u001b[0;32m      <a href='vscode-notebook-cell:/c%3A/Users/AZ/Documents/GitHub/CS7320-AI/Local_Search/n_queens_fast_conflict_calculation_with_numba.ipynb#ch0000003?line=2'>3</a>\u001b[0m \u001b[39mfrom\u001b[39;00m \u001b[39mmatplotlib\u001b[39;00m \u001b[39mimport\u001b[39;00m colors\n\u001b[1;32m----> <a href='vscode-notebook-cell:/c%3A/Users/AZ/Documents/GitHub/CS7320-AI/Local_Search/n_queens_fast_conflict_calculation_with_numba.ipynb#ch0000003?line=4'>5</a>\u001b[0m \u001b[39mfrom\u001b[39;00m \u001b[39mnumba\u001b[39;00m \u001b[39mimport\u001b[39;00m njit\n\u001b[0;32m      <a href='vscode-notebook-cell:/c%3A/Users/AZ/Documents/GitHub/CS7320-AI/Local_Search/n_queens_fast_conflict_calculation_with_numba.ipynb#ch0000003?line=7'>8</a>\u001b[0m \u001b[39m# original\u001b[39;00m\n\u001b[0;32m      <a href='vscode-notebook-cell:/c%3A/Users/AZ/Documents/GitHub/CS7320-AI/Local_Search/n_queens_fast_conflict_calculation_with_numba.ipynb#ch0000003?line=8'>9</a>\u001b[0m \u001b[39mdef\u001b[39;00m \u001b[39mcomb2\u001b[39m(n): \u001b[39mreturn\u001b[39;00m n\u001b[39m*\u001b[39m(n\u001b[39m-\u001b[39m\u001b[39m1\u001b[39m)\u001b[39m/\u001b[39m\u001b[39m/\u001b[39m\u001b[39m2\u001b[39m \u001b[39m# this is n choose 2 equivalent to math.comb(n, 2); // is int division\u001b[39;00m\n",
      "\u001b[1;31mModuleNotFoundError\u001b[0m: No module named 'numba'"
     ]
    }
   ],
   "source": [
    "import numpy as np\n",
    "import matplotlib.pyplot as plt\n",
    "from matplotlib import colors\n",
    "\n",
    "\n",
    "from numba import njit\n",
    "\n",
    "\n",
    "# original\n",
    "def comb2(n): return n*(n-1)//2 # this is n choose 2 equivalent to math.comb(n, 2); // is int division\n",
    "\n",
    "def conflicts(board):\n",
    "    \"\"\"Caclulate the number of conflicts, i.e., the objective function.\"\"\"\n",
    "\n",
    "    n = len(board)\n",
    "    \n",
    "    horizontal_cnt = [0] * n\n",
    "    diagonal1_cnt = [0] * 2 * n\n",
    "    diagonal2_cnt = [0] * 2 * n\n",
    "    \n",
    "    for i in range(n):\n",
    "        horizontal_cnt[board[i]] += 1\n",
    "        diagonal1_cnt[i + board[i]] += 1\n",
    "        diagonal2_cnt[i - board[i] + n] += 1\n",
    "    \n",
    "    return sum(map(comb2, horizontal_cnt + diagonal1_cnt + diagonal2_cnt))\n",
    "\n",
    "# with jit (cannot use some Python functions like sum)\n",
    "@njit()\n",
    "def comb2_jit(n): return n*(n-1)//2 # this is n choose 2 equivalent to math.comb(n, 2); // is int division\n",
    "\n",
    "@njit()\n",
    "def conflicts_jit(board):\n",
    "    \"\"\"Caclulate the number of conflicts, i.e., the objective function.\"\"\"\n",
    "\n",
    "    n = len(board)\n",
    " \n",
    "    cnt = [0] * (5 * n)\n",
    " \n",
    "    for i in range(n):\n",
    "        cnt[board[i]] += 1\n",
    "        cnt[(n) + (i + board[i])] += 1\n",
    "        cnt[(3 * n) + (i - board[i] + n)] += 1\n",
    " \n",
    "    conflicts = 0\n",
    "    for x in cnt:\n",
    "        conflicts += comb2_jit(x)\n",
    " \n",
    "    return conflicts\n",
    "\n"
   ]
  },
  {
   "cell_type": "markdown",
   "metadata": {},
   "source": [
    "# Compare Timing\n",
    "\n",
    "Compare runtime on 50 random boards of different sizes."
   ]
  },
  {
   "cell_type": "code",
   "execution_count": null,
   "metadata": {},
   "outputs": [],
   "source": [
    "np.random.seed(1234)\n",
    "def random_board(n):\n",
    "    \"\"\"Creates a random board of size n x n. Note that only a single queen is placed in each column!\"\"\"\n",
    "    \n",
    "    return(np.random.randint(0,n, size = n))"
   ]
  },
  {
   "cell_type": "code",
   "execution_count": null,
   "metadata": {},
   "outputs": [
    {
     "data": {
      "image/png": "[encoded data removed]",
      "text/plain": [
       "<Figure size 432x288 with 1 Axes>"
      ]
     },
     "metadata": {
      "needs_background": "light"
     },
     "output_type": "display_data"
    }
   ],
   "source": [
    "import timeit\n",
    " \n",
    "# run it once to compile\n",
    "conflicts_jit(random_board(4))\n",
    "    \n",
    "x = []\n",
    "old_times = []\n",
    "new_times = []\n",
    " \n",
    " \n",
    "for i in range(50, 1_000, 100):\n",
    "    boards = [random_board(i) for _ in range(50)]\n",
    " \n",
    "    new = timeit.timeit(\n",
    "        lambda: [conflicts_jit(board) for board in boards], number=1\n",
    "    )\n",
    "    old = timeit.timeit(\n",
    "        lambda: [conflicts(board) for board in boards], number=1\n",
    "    )\n",
    " \n",
    "    x.append(i)\n",
    "    old_times.append(old)\n",
    "    new_times.append(new)\n",
    " \n",
    "plt.plot(x, new_times)\n",
    "plt.plot(x, old_times)\n",
    "plt.xlabel(\"board size\")\n",
    "plt.ylabel(\"runtime [sec]\")\n",
    "plt.legend([\"jit compiled with numba\", \"original\"])\n",
    "plt.show()"
   ]
  },
  {
   "cell_type": "code",
   "execution_count": null,
   "metadata": {},
   "outputs": [
    {
     "data": {
      "image/png": "[encoded data removed]",
      "text/plain": [
       "<Figure size 432x288 with 1 Axes>"
      ]
     },
     "metadata": {
      "needs_background": "light"
     },
     "output_type": "display_data"
    }
   ],
   "source": [
    "plt.plot(x, new_times)\n",
    "plt.xlabel(\"board size\")\n",
    "plt.ylabel(\"runtime [sec]\")\n",
    "plt.show()"
   ]
  }
 ],
 "metadata": {
  "kernelspec": {
   "display_name": "Python 3 (ipykernel)",
   "language": "python",
   "name": "python3"
  },
  "language_info": {
   "codemirror_mode": {
    "name": "ipython",
    "version": 3
   },
   "file_extension": ".py",
   "mimetype": "text/x-python",
   "name": "python",
   "nbconvert_exporter": "python",
   "pygments_lexer": "ipython3",
   "version": "3.10.0"
  }
 },
 "nbformat": 4,
 "nbformat_minor": 4
}
